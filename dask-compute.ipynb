{
 "cells": [
  {
   "cell_type": "code",
   "execution_count": 10,
   "metadata": {},
   "outputs": [
    {
     "data": {
      "text/html": [
       "<table style=\"border: 2px solid white;\">\n",
       "<tr>\n",
       "<td style=\"vertical-align: top; border: 0px solid white\">\n",
       "<h3 style=\"text-align: left;\">Client</h3>\n",
       "<ul style=\"text-align: left; list-style: none; margin: 0; padding: 0;\">\n",
       "  <li><b>Scheduler: </b>tcp://192.168.1.116:8786</li>\n",
       "  <li><b>Dashboard: </b><a href='http://192.168.1.116:8787/status' target='_blank'>http://192.168.1.116:8787/status</a>\n",
       "</ul>\n",
       "</td>\n",
       "<td style=\"vertical-align: top; border: 0px solid white\">\n",
       "<h3 style=\"text-align: left;\">Cluster</h3>\n",
       "<ul style=\"text-align: left; list-style:none; margin: 0; padding: 0;\">\n",
       "  <li><b>Workers: </b>3</li>\n",
       "  <li><b>Cores: </b>24</li>\n",
       "  <li><b>Memory: </b>18.74 GB</li>\n",
       "</ul>\n",
       "</td>\n",
       "</tr>\n",
       "</table>"
      ],
      "text/plain": [
       "<Client: 'tcp://192.168.1.116:8786' processes=3 threads=24, memory=18.74 GB>"
      ]
     },
     "execution_count": 10,
     "metadata": {},
     "output_type": "execute_result"
    }
   ],
   "source": [
    "import time\n",
    "import dask.array as da\n",
    "from distributed import Client, progress\n",
    "\n",
    "client = Client(\"192.168.1.116:8786\")\n",
    "client"
   ]
  },
  {
   "cell_type": "code",
   "execution_count": 11,
   "metadata": {},
   "outputs": [],
   "source": [
    "w = da.random.random((10000, 10000), chunks=(1000, 1000))\n",
    "x = da.random.random((10000, 10000), chunks=(1000, 1000))\n",
    "y = da.random.random((10000, 10000), chunks=(1000, 1000))\n",
    "z = da.random.random((10000, 10000), chunks=(1000, 1000))"
   ]
  },
  {
   "cell_type": "code",
   "execution_count": 12,
   "metadata": {},
   "outputs": [],
   "source": [
    "_result = ((w + w.T) * (x + x.T) * (y + y.T) * (z + z.T)).sum() / (w * x * y * z).sum()"
   ]
  },
  {
   "cell_type": "code",
   "execution_count": 13,
   "metadata": {},
   "outputs": [
    {
     "name": "stdout",
     "output_type": "stream",
     "text": [
      "min: 21.366376399993896\n",
      "avg: 23.35723683834076\n",
      "max: 25.388206481933594\n"
     ]
    }
   ],
   "source": [
    "timings = []\n",
    "\n",
    "for i in range(10):\n",
    "    result = _result + i\n",
    "    start = time.time()\n",
    "    result.compute()\n",
    "    duration = time.time() - start\n",
    "    timings.append(duration)\n",
    "    \n",
    "print(\"min:\", min(timings))\n",
    "print(\"avg:\", sum(timings)/len(timings))\n",
    "print(\"max:\", max(timings))"
   ]
  },
  {
   "cell_type": "code",
   "execution_count": null,
   "metadata": {},
   "outputs": [],
   "source": []
  }
 ],
 "metadata": {
  "kernelspec": {
   "display_name": "Python 3",
   "language": "python",
   "name": "python3"
  },
  "language_info": {
   "codemirror_mode": {
    "name": "ipython",
    "version": 3
   },
   "file_extension": ".py",
   "mimetype": "text/x-python",
   "name": "python",
   "nbconvert_exporter": "python",
   "pygments_lexer": "ipython3",
   "version": "3.6.8"
  }
 },
 "nbformat": 4,
 "nbformat_minor": 2
}
